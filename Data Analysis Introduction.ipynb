{
 "cells": [
  {
   "cell_type": "markdown",
   "metadata": {},
   "source": [
    "Welcome to jupyter!\n",
    "\n",
    "We will have our first question here:"
   ]
  },
  {
   "cell_type": "code",
   "execution_count": null,
   "metadata": {},
   "outputs": [],
   "source": [
    "file = open(“~/documents/new-york-city-current-job-postings/nyc-jobs.csv”,”r”) \n",
    " \n",
    "file.readlines(“Hello World”) \n",
    "file.write(“This is our new text file”) \n",
    "file.write(“and this is another line.”) \n",
    "file.write(“Why? Because we can.”) \n",
    " \n",
    "file.close() \n"
   ]
  }
 ],
 "metadata": {
  "kernelspec": {
   "display_name": "Python 3",
   "language": "python",
   "name": "python3"
  },
  "language_info": {
   "codemirror_mode": {
    "name": "ipython",
    "version": 3
   },
   "file_extension": ".py",
   "mimetype": "text/x-python",
   "name": "python",
   "nbconvert_exporter": "python",
   "pygments_lexer": "ipython3",
   "version": "3.7.1"
  }
 },
 "nbformat": 4,
 "nbformat_minor": 2
}
